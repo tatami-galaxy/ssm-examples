{
 "cells": [
  {
   "cell_type": "code",
   "execution_count": 1,
   "id": "7b2c6f03-fd39-45e9-93de-634117dcf366",
   "metadata": {},
   "outputs": [],
   "source": [
    "import abc\n",
    "from dataclasses import dataclass\n",
    "import functools\n",
    "from functools import partial\n",
    "import itertools\n",
    "import matplotlib.pyplot as plt\n",
    "import numpy as np\n",
    "from typing import Any, Callable, NamedTuple, Optional, Union, Tuple\n",
    "\n",
    "import jax\n",
    "import jax.numpy as jnp\n",
    "from jax import lax, vmap, jit, grad\n",
    "import jax.random as jr\n",
    "\n",
    "import distrax\n",
    "import optax\n",
    "\n",
    "import jsl\n",
    "\n",
    "import inspect\n",
    "import inspect as py_inspect\n",
    "import rich\n",
    "from rich import inspect as r_inspect\n",
    "from rich import print as r_print"
   ]
  },
  {
   "cell_type": "code",
   "execution_count": 2,
   "id": "84a88a96-ae71-42ff-a532-eef097029b00",
   "metadata": {},
   "outputs": [],
   "source": [
    "# state transition matrix\n",
    "A = np.array([\n",
    "    [0.95, 0.05],\n",
    "    [0.10, 0.90]\n",
    "])\n",
    "\n",
    "# observation matrix\n",
    "B = np.array([\n",
    "    [1/6, 1/6, 1/6, 1/6, 1/6, 1/6], # fair die\n",
    "    [1/10, 1/10, 1/10, 1/10, 1/10, 5/10] # loaded die\n",
    "])\n",
    "\n",
    "pi = np.array([0.5, 0.5])\n",
    "\n",
    "(nstates, nobs) = np.shape(B)"
   ]
  },
  {
   "cell_type": "code",
   "execution_count": 3,
   "id": "6c942bcd-abfa-4ec9-aa4b-0ed35788de0d",
   "metadata": {},
   "outputs": [
    {
     "name": "stderr",
     "output_type": "stream",
     "text": [
      "WARNING: All log messages before absl::InitializeLog() is called are written to STDERR\n",
      "I0000 00:00:1706202843.073165       1 tfrt_cpu_pjrt_client.cc:349] TfrtCpuClient created.\n"
     ]
    },
    {
     "name": "stdout",
     "output_type": "stream",
     "text": [
      "<distrax._src.utils.hmm.HMM object at 0x7febc2760e20>\n"
     ]
    }
   ],
   "source": [
    "import distrax\n",
    "from distrax import HMM\n",
    "\n",
    "\n",
    "hmm = HMM(trans_dist=distrax.Categorical(probs=A),\n",
    "            init_dist=distrax.Categorical(probs=pi),\n",
    "            obs_dist=distrax.Categorical(probs=B))\n",
    "\n",
    "print(hmm)"
   ]
  },
  {
   "cell_type": "markdown",
   "id": "c2ef6061-7415-4088-8d4f-dc0db0d20e95",
   "metadata": {},
   "source": [
    "sample from the model"
   ]
  },
  {
   "cell_type": "code",
   "execution_count": 4,
   "id": "2bf3075f-628f-412b-ad54-0e042462ae6c",
   "metadata": {},
   "outputs": [
    {
     "name": "stdout",
     "output_type": "stream",
     "text": [
      "Printing sample observed/latent...\n",
      "x: 633665342652353616444236412331351246651613325161656366246242\n",
      "z: 222222211111111111111111111111111111111222111111112222211111\n"
     ]
    }
   ],
   "source": [
    "seed = 314\n",
    "n_samples = 300\n",
    "z_hist, x_hist = hmm.sample(seed=jr.PRNGKey(seed), seq_len=n_samples)\n",
    "\n",
    "z_hist_str = \"\".join((np.array(z_hist) + 1).astype(str))[:60]\n",
    "x_hist_str = \"\".join((np.array(x_hist) + 1).astype(str))[:60]\n",
    "\n",
    "print(\"Printing sample observed/latent...\")\n",
    "print(f\"x: {x_hist_str}\")\n",
    "print(f\"z: {z_hist_str}\")"
   ]
  },
  {
   "cell_type": "markdown",
   "id": "ec90fdeb-cd5e-4284-946f-adeefab3f7ec",
   "metadata": {},
   "source": [
    "sample function :"
   ]
  },
  {
   "cell_type": "code",
   "execution_count": null,
   "id": "50f4b29a-c6b1-47ce-9b02-cd3a743fedb7",
   "metadata": {},
   "outputs": [],
   "source": [
    "## DO NOT RUN ##\n",
    "\n",
    "def sample(self,\n",
    "             *,\n",
    "             seed: chex.PRNGKey,\n",
    "             seq_len: int) -> Tuple[chex.Array, chex.Array]:\n",
    "    \"\"\"Sample from this HMM.\n",
    "\n",
    "    Samples an observation of given length according to this\n",
    "    Hidden Markov Model and gives the sequence of the hidden states\n",
    "    as well as the observation.\n",
    "\n",
    "    Args:\n",
    "      seed: Random key of shape (2,) and dtype uint32.\n",
    "      seq_len: The length of the observation sequence.\n",
    "\n",
    "    Returns:\n",
    "      Tuple of hidden state sequence, and observation sequence.\n",
    "    \"\"\"\n",
    "    rng_key, rng_init = jax.random.split(seed)\n",
    "    initial_state = self._init_dist.sample(seed=rng_init)\n",
    "\n",
    "    def draw_state(prev_state, key):\n",
    "      state = self._trans_dist.sample(seed=key)[prev_state]\n",
    "      return state, state\n",
    "\n",
    "    rng_state, rng_obs = jax.random.split(rng_key)\n",
    "    keys = jax.random.split(rng_state, seq_len - 1)\n",
    "\n",
    "    # scan -> https://ericmjl.github.io/dl-workshop/02-jax-idioms/02-loopy-carry.html\n",
    "    _, states = jax.lax.scan(draw_state, initial_state, keys)\n",
    "    states = jnp.append(initial_state, states)\n",
    "\n",
    "    def draw_obs(state, key):\n",
    "      return self._obs_dist.sample(seed=key)[state]\n",
    "\n",
    "    keys = jax.random.split(rng_obs, seq_len)\n",
    "    # vmap -> https://ericmjl.github.io/dl-workshop/02-jax-idioms/01-loopless-loops.html\n",
    "    obs_seq = jax.vmap(draw_obs, in_axes=(0, 0))(states, keys)\n",
    "\n",
    "    return states, obs_seq"
   ]
  },
  {
   "cell_type": "code",
   "execution_count": null,
   "id": "01fef077-9c6f-4f21-aea9-cac550e4f50a",
   "metadata": {},
   "outputs": [],
   "source": []
  }
 ],
 "metadata": {
  "kernelspec": {
   "display_name": "Python 3 (ipykernel)",
   "language": "python",
   "name": "python3"
  },
  "language_info": {
   "codemirror_mode": {
    "name": "ipython",
    "version": 3
   },
   "file_extension": ".py",
   "mimetype": "text/x-python",
   "name": "python",
   "nbconvert_exporter": "python",
   "pygments_lexer": "ipython3",
   "version": "3.9.18"
  }
 },
 "nbformat": 4,
 "nbformat_minor": 5
}
